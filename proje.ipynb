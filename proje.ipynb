{
 "cells": [
  {
   "cell_type": "markdown",
   "id": "ad8e6a53",
   "metadata": {},
   "source": [
    "## VERİ ÖN İŞLEME"
   ]
  },
  {
   "cell_type": "code",
   "execution_count": 1,
   "id": "a21229cf",
   "metadata": {},
   "outputs": [],
   "source": [
    "import pandas as pd\n",
    "import numpy as np\n",
    "import seaborn as sns"
   ]
  },
  {
   "cell_type": "code",
   "execution_count": 2,
   "id": "f3f15a70",
   "metadata": {},
   "outputs": [],
   "source": [
    "veri2=pd.read_csv(\"turkey_car_market.csv\")"
   ]
  },
  {
   "cell_type": "code",
   "execution_count": 3,
   "id": "4572d23d",
   "metadata": {},
   "outputs": [
    {
     "data": {
      "text/plain": [
       "İlan Tarihi       0\n",
       "Marka             0\n",
       "Arac Tip Grubu    0\n",
       "Arac Tip          0\n",
       "Model Yıl         0\n",
       "Yakıt Turu        0\n",
       "Vites             0\n",
       "CCM               0\n",
       "Beygir Gucu       0\n",
       "Renk              0\n",
       "Kasa Tipi         0\n",
       "Kimden            0\n",
       "Durum             0\n",
       "Km                0\n",
       "Fiyat             0\n",
       "dtype: int64"
      ]
     },
     "execution_count": 3,
     "metadata": {},
     "output_type": "execute_result"
    }
   ],
   "source": [
    "#Tablodaki Sutunlardaki Eksik Verileri Basalım\n",
    "veri2.isnull().sum()#degiskenlerin sahip oldugu eksik degeelrin toplamını yazar"
   ]
  },
  {
   "cell_type": "code",
   "execution_count": 4,
   "id": "8b0eaa83",
   "metadata": {},
   "outputs": [
    {
     "data": {
      "text/plain": [
       "<AxesSubplot:>"
      ]
     },
     "execution_count": 4,
     "metadata": {},
     "output_type": "execute_result"
    },
    {
     "data": {
      "image/png": "[encoded data removed]",
      "text/plain": [
       "<Figure size 432x288 with 2 Axes>"
      ]
     },
     "metadata": {
      "needs_background": "light"
     },
     "output_type": "display_data"
    }
   ],
   "source": [
    "#Hatta Eksik Verileri Görselleştirerek Görelim\n",
    "sns.heatmap(veri2.isnull(),yticklabels=False,cmap=\"viridis\")# eksik verileri gorsellestirererk gor"
   ]
  },
  {
   "cell_type": "code",
   "execution_count": 5,
   "id": "45e27d1e",
   "metadata": {},
   "outputs": [
    {
     "data": {
      "text/html": [
       "<div>\n",
       "<style scoped>\n",
       "    .dataframe tbody tr th:only-of-type {\n",
       "        vertical-align: middle;\n",
       "    }\n",
       "\n",
       "    .dataframe tbody tr th {\n",
       "        vertical-align: top;\n",
       "    }\n",
       "\n",
       "    .dataframe thead th {\n",
       "        text-align: right;\n",
       "    }\n",
       "</style>\n",
       "<table border=\"1\" class=\"dataframe\">\n",
       "  <thead>\n",
       "    <tr style=\"text-align: right;\">\n",
       "      <th></th>\n",
       "      <th>Ilan_Tarihi</th>\n",
       "      <th>Marka</th>\n",
       "      <th>Arac_Tip_Grubu</th>\n",
       "      <th>Arac_Tip</th>\n",
       "      <th>Model_Yili</th>\n",
       "      <th>Yakit_Turu</th>\n",
       "      <th>Vites</th>\n",
       "      <th>CCM</th>\n",
       "      <th>Beygir_Gucu</th>\n",
       "      <th>Renk</th>\n",
       "      <th>Kasa_Tipi</th>\n",
       "      <th>Kimden</th>\n",
       "      <th>Durum</th>\n",
       "      <th>Km</th>\n",
       "      <th>Fiyat</th>\n",
       "    </tr>\n",
       "  </thead>\n",
       "  <tbody>\n",
       "    <tr>\n",
       "      <th>0</th>\n",
       "      <td>27/05/2020</td>\n",
       "      <td>Jaguar</td>\n",
       "      <td>XF</td>\n",
       "      <td>2.0 D Prestige Plus</td>\n",
       "      <td>2017.0</td>\n",
       "      <td>Dizel</td>\n",
       "      <td>Otomatik Vites</td>\n",
       "      <td>1801-2000 cc</td>\n",
       "      <td>176-200 BG</td>\n",
       "      <td>Lacivert</td>\n",
       "      <td>Hatchback 5 Kapı</td>\n",
       "      <td>Galeriden</td>\n",
       "      <td>2. El</td>\n",
       "      <td>26100</td>\n",
       "      <td>634500</td>\n",
       "    </tr>\n",
       "    <tr>\n",
       "      <th>1</th>\n",
       "      <td>16/06/2020</td>\n",
       "      <td>Acura</td>\n",
       "      <td>CL</td>\n",
       "      <td>-</td>\n",
       "      <td>2015.0</td>\n",
       "      <td>Dizel</td>\n",
       "      <td>Yarı Otomatik Vites</td>\n",
       "      <td>1301-1600 cc</td>\n",
       "      <td>101-125 BG</td>\n",
       "      <td>Mavi</td>\n",
       "      <td>Sedan</td>\n",
       "      <td>Sahibinden</td>\n",
       "      <td>2. El</td>\n",
       "      <td>127000</td>\n",
       "      <td>151500</td>\n",
       "    </tr>\n",
       "    <tr>\n",
       "      <th>2</th>\n",
       "      <td>14/06/2020</td>\n",
       "      <td>Acura</td>\n",
       "      <td>CL</td>\n",
       "      <td>2.2</td>\n",
       "      <td>1994.0</td>\n",
       "      <td>Benzin/LPG</td>\n",
       "      <td>Düz Vites</td>\n",
       "      <td>1301-1600 cc</td>\n",
       "      <td>101-125 BG</td>\n",
       "      <td>Turkuaz</td>\n",
       "      <td>Sedan</td>\n",
       "      <td>Sahibinden</td>\n",
       "      <td>2. El</td>\n",
       "      <td>175000</td>\n",
       "      <td>19750</td>\n",
       "    </tr>\n",
       "    <tr>\n",
       "      <th>3</th>\n",
       "      <td>11/06/2020</td>\n",
       "      <td>Acura</td>\n",
       "      <td>CL</td>\n",
       "      <td>-</td>\n",
       "      <td>2013.0</td>\n",
       "      <td>Dizel</td>\n",
       "      <td>Düz Vites</td>\n",
       "      <td>1301-1600 cc</td>\n",
       "      <td>76-100 BG</td>\n",
       "      <td>Kahverengi</td>\n",
       "      <td>Sedan</td>\n",
       "      <td>Sahibinden</td>\n",
       "      <td>2. El</td>\n",
       "      <td>325</td>\n",
       "      <td>52000</td>\n",
       "    </tr>\n",
       "    <tr>\n",
       "      <th>4</th>\n",
       "      <td>11/06/2020</td>\n",
       "      <td>Acura</td>\n",
       "      <td>CL</td>\n",
       "      <td>2.2</td>\n",
       "      <td>2010.0</td>\n",
       "      <td>Dizel</td>\n",
       "      <td>Otomatik Vites</td>\n",
       "      <td>1801-2000 cc</td>\n",
       "      <td>151-175 BG</td>\n",
       "      <td>Beyaz</td>\n",
       "      <td>Sedan</td>\n",
       "      <td>Sahibinden</td>\n",
       "      <td>2. El</td>\n",
       "      <td>207000</td>\n",
       "      <td>148750</td>\n",
       "    </tr>\n",
       "  </tbody>\n",
       "</table>\n",
       "</div>"
      ],
      "text/plain": [
       "  Ilan_Tarihi   Marka Arac_Tip_Grubu             Arac_Tip  Model_Yili  \\\n",
       "0  27/05/2020  Jaguar             XF  2.0 D Prestige Plus      2017.0   \n",
       "1  16/06/2020   Acura             CL                    -      2015.0   \n",
       "2  14/06/2020   Acura             CL                  2.2      1994.0   \n",
       "3  11/06/2020   Acura             CL                    -      2013.0   \n",
       "4  11/06/2020   Acura             CL                  2.2      2010.0   \n",
       "\n",
       "   Yakit_Turu                Vites           CCM Beygir_Gucu         Renk  \\\n",
       "0       Dizel       Otomatik Vites  1801-2000 cc  176-200 BG    Lacivert    \n",
       "1       Dizel  Yarı Otomatik Vites  1301-1600 cc  101-125 BG        Mavi    \n",
       "2  Benzin/LPG            Düz Vites  1301-1600 cc  101-125 BG     Turkuaz    \n",
       "3       Dizel            Düz Vites  1301-1600 cc   76-100 BG  Kahverengi    \n",
       "4       Dizel       Otomatik Vites  1801-2000 cc  151-175 BG       Beyaz    \n",
       "\n",
       "          Kasa_Tipi      Kimden  Durum      Km   Fiyat  \n",
       "0  Hatchback 5 Kapı   Galeriden  2. El   26100  634500  \n",
       "1             Sedan  Sahibinden  2. El  127000  151500  \n",
       "2             Sedan  Sahibinden  2. El  175000   19750  \n",
       "3             Sedan  Sahibinden  2. El     325   52000  \n",
       "4             Sedan  Sahibinden  2. El  207000  148750  "
      ]
     },
     "execution_count": 5,
     "metadata": {},
     "output_type": "execute_result"
    }
   ],
   "source": [
    "ing_sutun_isimleri = ['Ilan_Tarihi','Marka','Arac_Tip_Grubu','Arac_Tip','Model_Yili','Yakit_Turu','Vites','CCM','Beygir_Gucu','Renk','Kasa_Tipi','Kimden','Durum','Km','Fiyat']\n",
    "veri2.columns = ing_sutun_isimleri\n",
    "veri2.head(5)"
   ]
  },
  {
   "cell_type": "code",
   "execution_count": 6,
   "id": "bdbc719c",
   "metadata": {},
   "outputs": [
    {
     "data": {
      "text/plain": [
       "Ilan_Tarihi        object\n",
       "Marka              object\n",
       "Arac_Tip_Grubu     object\n",
       "Arac_Tip           object\n",
       "Model_Yili        float64\n",
       "Yakit_Turu         object\n",
       "Vites              object\n",
       "CCM                object\n",
       "Beygir_Gucu        object\n",
       "Renk               object\n",
       "Kasa_Tipi          object\n",
       "Kimden             object\n",
       "Durum              object\n",
       "Km                  int64\n",
       "Fiyat               int64\n",
       "dtype: object"
      ]
     },
     "execution_count": 6,
     "metadata": {},
     "output_type": "execute_result"
    }
   ],
   "source": [
    "veri2.dtypes"
   ]
  },
  {
   "cell_type": "code",
   "execution_count": 7,
   "id": "375d82c6",
   "metadata": {},
   "outputs": [],
   "source": [
    "veri2.drop([\"Ilan_Tarihi\",\"Arac_Tip_Grubu\",\"Arac_Tip\",\"Km\"],axis=1,inplace=True)"
   ]
  },
  {
   "cell_type": "code",
   "execution_count": 8,
   "id": "260ce72e",
   "metadata": {},
   "outputs": [],
   "source": [
    "#DALLANMA SAYILARI BU SEKİLDEDİR \n",
    "#print(veri.Marka.value_counts())#36\n",
    "#print(veri.Arac_Tip_Grubu.value_counts())#387\n",
    "#print(veri.Arac_Tip.value_counts())#1759\n",
    "#print(veri.Model_Yili.value_counts())#40\n",
    "#print(veri.Yakit_Turu.value_counts())#5\n",
    "#print(veri.Vites.value_counts())#3\n",
    "#print(veri.CCM.value_counts())#15\n",
    "#print(veri.Beygir_Gucu.value_counts())#19\n",
    "#print(veri.Renk.value_counts())#28\n",
    "#print(veri.Kasa_Tipi.value_counts())#13\n",
    "#print(veri.Kimden.value_counts())#3\n",
    "#print(veri.Durum.value_counts())#4\n",
    "#print(veri.Km.value_counts())#1605\n",
    "#print(veri.Fiyat.value_counts())#1833"
   ]
  },
  {
   "cell_type": "code",
   "execution_count": 9,
   "id": "6de6c195",
   "metadata": {},
   "outputs": [],
   "source": [
    "#Arac_Tip_Grubu VE Km SUTUNLARINI SİLELİM"
   ]
  },
  {
   "cell_type": "code",
   "execution_count": 10,
   "id": "99097eab",
   "metadata": {},
   "outputs": [],
   "source": [
    "Marka=pd.get_dummies(veri2[\"Marka\"],drop_first=True)\n",
    "Yakit_Turu=pd.get_dummies(veri2[\"Yakit_Turu\"],drop_first=True)\n",
    "Vites=pd.get_dummies(veri2[\"Vites\"],drop_first=True)\n",
    "CCM=pd.get_dummies(veri2[\"CCM\"],drop_first=True)\n",
    "Beygir_Gucu=pd.get_dummies(veri2[\"Beygir_Gucu\"],drop_first=True)\n",
    "Renk=pd.get_dummies(veri2[\"Renk\"],drop_first=True)\n",
    "Kasa_Tipi=pd.get_dummies(veri2[\"Kasa_Tipi\"],drop_first=True)\n",
    "Kimden=pd.get_dummies(veri2[\"Kimden\"],drop_first=True)\n",
    "Durum=pd.get_dummies(veri2[\"Durum\"],drop_first=True)"
   ]
  },
  {
   "cell_type": "code",
   "execution_count": 11,
   "id": "979fb23a",
   "metadata": {},
   "outputs": [],
   "source": [
    "veri2.drop([\"Marka\",\"Yakit_Turu\",\"Vites\",\"CCM\",\"Beygir_Gucu\",\"Renk\",\"Kasa_Tipi\",\"Kimden\",\"Durum\"],axis=1,inplace=True)"
   ]
  },
  {
   "cell_type": "code",
   "execution_count": 12,
   "id": "e046b7e8",
   "metadata": {},
   "outputs": [],
   "source": [
    "veri2=pd.concat([veri2,Marka,Yakit_Turu,Vites,CCM,Beygir_Gucu,Renk,Kasa_Tipi,Kimden,Durum],axis=1)"
   ]
  },
  {
   "cell_type": "code",
   "execution_count": 13,
   "id": "51847966",
   "metadata": {},
   "outputs": [
    {
     "data": {
      "text/plain": [
       "Model_Yili    float64\n",
       "Fiyat           int64\n",
       "Alfa Romeo      uint8\n",
       "Audi            uint8\n",
       "BMW             uint8\n",
       "               ...   \n",
       "Sahibinden      uint8\n",
       "Yetkili         uint8\n",
       "2. El           uint8\n",
       "Hasarlı         uint8\n",
       "Klasik          uint8\n",
       "Length: 119, dtype: object"
      ]
     },
     "execution_count": 13,
     "metadata": {},
     "output_type": "execute_result"
    }
   ],
   "source": [
    "veri2.dtypes"
   ]
  },
  {
   "cell_type": "code",
   "execution_count": 14,
   "id": "13d04b51",
   "metadata": {},
   "outputs": [
    {
     "data": {
      "text/html": [
       "<div>\n",
       "<style scoped>\n",
       "    .dataframe tbody tr th:only-of-type {\n",
       "        vertical-align: middle;\n",
       "    }\n",
       "\n",
       "    .dataframe tbody tr th {\n",
       "        vertical-align: top;\n",
       "    }\n",
       "\n",
       "    .dataframe thead th {\n",
       "        text-align: right;\n",
       "    }\n",
       "</style>\n",
       "<table border=\"1\" class=\"dataframe\">\n",
       "  <thead>\n",
       "    <tr style=\"text-align: right;\">\n",
       "      <th></th>\n",
       "      <th>Model_Yili</th>\n",
       "      <th>Fiyat</th>\n",
       "      <th>Alfa Romeo</th>\n",
       "      <th>Audi</th>\n",
       "      <th>BMW</th>\n",
       "      <th>Chery</th>\n",
       "      <th>Chevrolet</th>\n",
       "      <th>Chrysler</th>\n",
       "      <th>Citroen</th>\n",
       "      <th>Dacia</th>\n",
       "      <th>...</th>\n",
       "      <th>Roadster</th>\n",
       "      <th>Sedan</th>\n",
       "      <th>Spor / Coupe</th>\n",
       "      <th>Station Wagon</th>\n",
       "      <th>Üstü Açık / Cabriolet</th>\n",
       "      <th>Sahibinden</th>\n",
       "      <th>Yetkili</th>\n",
       "      <th>2. El</th>\n",
       "      <th>Hasarlı</th>\n",
       "      <th>Klasik</th>\n",
       "    </tr>\n",
       "  </thead>\n",
       "  <tbody>\n",
       "    <tr>\n",
       "      <th>0</th>\n",
       "      <td>2017.0</td>\n",
       "      <td>634500</td>\n",
       "      <td>0</td>\n",
       "      <td>0</td>\n",
       "      <td>0</td>\n",
       "      <td>0</td>\n",
       "      <td>0</td>\n",
       "      <td>0</td>\n",
       "      <td>0</td>\n",
       "      <td>0</td>\n",
       "      <td>...</td>\n",
       "      <td>0</td>\n",
       "      <td>0</td>\n",
       "      <td>0</td>\n",
       "      <td>0</td>\n",
       "      <td>0</td>\n",
       "      <td>0</td>\n",
       "      <td>0</td>\n",
       "      <td>1</td>\n",
       "      <td>0</td>\n",
       "      <td>0</td>\n",
       "    </tr>\n",
       "  </tbody>\n",
       "</table>\n",
       "<p>1 rows × 119 columns</p>\n",
       "</div>"
      ],
      "text/plain": [
       "   Model_Yili   Fiyat  Alfa Romeo  Audi  BMW  Chery  Chevrolet  Chrysler  \\\n",
       "0      2017.0  634500           0     0    0      0          0         0   \n",
       "\n",
       "   Citroen  Dacia  ...  Roadster  Sedan  Spor / Coupe  Station Wagon  \\\n",
       "0        0      0  ...         0      0             0              0   \n",
       "\n",
       "   Üstü Açık / Cabriolet  Sahibinden  Yetkili  2. El  Hasarlı  Klasik  \n",
       "0                      0           0        0      1        0       0  \n",
       "\n",
       "[1 rows x 119 columns]"
      ]
     },
     "execution_count": 14,
     "metadata": {},
     "output_type": "execute_result"
    }
   ],
   "source": [
    "veri=veri2.copy()\n",
    "veri.head(1)#ilk 1 satırı yaz"
   ]
  },
  {
   "cell_type": "markdown",
   "id": "65bba3df",
   "metadata": {},
   "source": [
    "## XGBOOST ILE MAKINA OGRENMESI"
   ]
  },
  {
   "cell_type": "code",
   "execution_count": 21,
   "id": "c22e859a",
   "metadata": {},
   "outputs": [],
   "source": [
    "import xgboost as xgb\n",
    "from xgboost import XGBRegressor\n",
    "from sklearn.model_selection import train_test_split, GridSearchCV\n",
    "from sklearn import model_selection                                    "
   ]
  },
  {
   "cell_type": "code",
   "execution_count": 22,
   "id": "959a5f11",
   "metadata": {},
   "outputs": [],
   "source": [
    "y=np.array(veri[\"Fiyat\"])\n",
    "X=np.array(veri.drop('Fiyat',axis=1))"
   ]
  },
  {
   "cell_type": "code",
   "execution_count": 23,
   "id": "2b262ae5",
   "metadata": {},
   "outputs": [],
   "source": [
    "# Kütüphanelerimizin yardımıyla eğitim ve test verilerimizi ayıralım. ( EN İYİ 0.20 DE CALISTI)\n",
    "X_train, X_test, y_train, y_test = train_test_split(X,y,test_size=0.20,random_state=144)"
   ]
  },
  {
   "cell_type": "code",
   "execution_count": 24,
   "id": "eeea8df2",
   "metadata": {},
   "outputs": [
    {
     "data": {
      "text/plain": [
       "'params = {\\n    \"colsample_bytree\":[0.3,0.6,0.9],\\n    \"learning_rate\":[0.01,0.09,0.02],\\n    \"max_depth\":[2,3,4,5,6],\\n    \"n_estimators\":[100,300,500,2000]\\n}\\nxgb = XGBRegressor()\\ngrid = GridSearchCV(xgb,params,cv=10,n_jobs=-1,verbose=2)\\ngrid.fit(X_train,y_train)\\nprint(grid.best_params_)'"
      ]
     },
     "execution_count": 24,
     "metadata": {},
     "output_type": "execute_result"
    }
   ],
   "source": [
    "# makine öğrenmesi algoritmamız için en iyi parametleri params ile öğreniriz:\n",
    "\"\"\"params = {\n",
    "    \"colsample_bytree\":[0.3,0.6,0.9],\n",
    "    \"learning_rate\":[0.01,0.09,0.02],\n",
    "    \"max_depth\":[2,3,4,5,6],\n",
    "    \"n_estimators\":[100,300,500,2000]\n",
    "}\n",
    "xgb = XGBRegressor()\n",
    "grid = GridSearchCV(xgb,params,cv=10,n_jobs=-1,verbose=2)\n",
    "grid.fit(X_train,y_train)\n",
    "print(grid.best_params_)\"\"\""
   ]
  },
  {
   "cell_type": "code",
   "execution_count": 25,
   "id": "59001bb7",
   "metadata": {},
   "outputs": [
    {
     "name": "stdout",
     "output_type": "stream",
     "text": [
      "İyi  parametreler:  {'colsample_bytree': 0.6, 'learning_rate': 0.09, 'max_depth': 5, 'n_estimators': 300}\n"
     ]
    }
   ],
   "source": [
    "# bir üst adımda tespit ettiğimiz parametlerimiz\n",
    "best_params_ = \"{'colsample_bytree': 0.6, 'learning_rate': 0.09, 'max_depth': 5, 'n_estimators': 300}\"\n",
    "print(\"İyi  parametreler: \",best_params_)"
   ]
  },
  {
   "cell_type": "code",
   "execution_count": 26,
   "id": "99378c3e",
   "metadata": {},
   "outputs": [
    {
     "data": {
      "text/html": [
       "<div>\n",
       "<style scoped>\n",
       "    .dataframe tbody tr th:only-of-type {\n",
       "        vertical-align: middle;\n",
       "    }\n",
       "\n",
       "    .dataframe tbody tr th {\n",
       "        vertical-align: top;\n",
       "    }\n",
       "\n",
       "    .dataframe thead th {\n",
       "        text-align: right;\n",
       "    }\n",
       "</style>\n",
       "<table border=\"1\" class=\"dataframe\">\n",
       "  <thead>\n",
       "    <tr style=\"text-align: right;\">\n",
       "      <th></th>\n",
       "      <th>Model_Yili</th>\n",
       "      <th>Fiyat</th>\n",
       "      <th>Alfa Romeo</th>\n",
       "      <th>Audi</th>\n",
       "      <th>BMW</th>\n",
       "      <th>Chery</th>\n",
       "      <th>Chevrolet</th>\n",
       "      <th>Chrysler</th>\n",
       "      <th>Citroen</th>\n",
       "      <th>Dacia</th>\n",
       "      <th>...</th>\n",
       "      <th>Roadster</th>\n",
       "      <th>Sedan</th>\n",
       "      <th>Spor / Coupe</th>\n",
       "      <th>Station Wagon</th>\n",
       "      <th>Üstü Açık / Cabriolet</th>\n",
       "      <th>Sahibinden</th>\n",
       "      <th>Yetkili</th>\n",
       "      <th>2. El</th>\n",
       "      <th>Hasarlı</th>\n",
       "      <th>Klasik</th>\n",
       "    </tr>\n",
       "  </thead>\n",
       "  <tbody>\n",
       "    <tr>\n",
       "      <th>0</th>\n",
       "      <td>2017.0</td>\n",
       "      <td>634500</td>\n",
       "      <td>0</td>\n",
       "      <td>0</td>\n",
       "      <td>0</td>\n",
       "      <td>0</td>\n",
       "      <td>0</td>\n",
       "      <td>0</td>\n",
       "      <td>0</td>\n",
       "      <td>0</td>\n",
       "      <td>...</td>\n",
       "      <td>0</td>\n",
       "      <td>0</td>\n",
       "      <td>0</td>\n",
       "      <td>0</td>\n",
       "      <td>0</td>\n",
       "      <td>0</td>\n",
       "      <td>0</td>\n",
       "      <td>1</td>\n",
       "      <td>0</td>\n",
       "      <td>0</td>\n",
       "    </tr>\n",
       "    <tr>\n",
       "      <th>1</th>\n",
       "      <td>2015.0</td>\n",
       "      <td>151500</td>\n",
       "      <td>0</td>\n",
       "      <td>0</td>\n",
       "      <td>0</td>\n",
       "      <td>0</td>\n",
       "      <td>0</td>\n",
       "      <td>0</td>\n",
       "      <td>0</td>\n",
       "      <td>0</td>\n",
       "      <td>...</td>\n",
       "      <td>0</td>\n",
       "      <td>1</td>\n",
       "      <td>0</td>\n",
       "      <td>0</td>\n",
       "      <td>0</td>\n",
       "      <td>1</td>\n",
       "      <td>0</td>\n",
       "      <td>1</td>\n",
       "      <td>0</td>\n",
       "      <td>0</td>\n",
       "    </tr>\n",
       "    <tr>\n",
       "      <th>2</th>\n",
       "      <td>1994.0</td>\n",
       "      <td>19750</td>\n",
       "      <td>0</td>\n",
       "      <td>0</td>\n",
       "      <td>0</td>\n",
       "      <td>0</td>\n",
       "      <td>0</td>\n",
       "      <td>0</td>\n",
       "      <td>0</td>\n",
       "      <td>0</td>\n",
       "      <td>...</td>\n",
       "      <td>0</td>\n",
       "      <td>1</td>\n",
       "      <td>0</td>\n",
       "      <td>0</td>\n",
       "      <td>0</td>\n",
       "      <td>1</td>\n",
       "      <td>0</td>\n",
       "      <td>1</td>\n",
       "      <td>0</td>\n",
       "      <td>0</td>\n",
       "    </tr>\n",
       "    <tr>\n",
       "      <th>3</th>\n",
       "      <td>2013.0</td>\n",
       "      <td>52000</td>\n",
       "      <td>0</td>\n",
       "      <td>0</td>\n",
       "      <td>0</td>\n",
       "      <td>0</td>\n",
       "      <td>0</td>\n",
       "      <td>0</td>\n",
       "      <td>0</td>\n",
       "      <td>0</td>\n",
       "      <td>...</td>\n",
       "      <td>0</td>\n",
       "      <td>1</td>\n",
       "      <td>0</td>\n",
       "      <td>0</td>\n",
       "      <td>0</td>\n",
       "      <td>1</td>\n",
       "      <td>0</td>\n",
       "      <td>1</td>\n",
       "      <td>0</td>\n",
       "      <td>0</td>\n",
       "    </tr>\n",
       "    <tr>\n",
       "      <th>4</th>\n",
       "      <td>2010.0</td>\n",
       "      <td>148750</td>\n",
       "      <td>0</td>\n",
       "      <td>0</td>\n",
       "      <td>0</td>\n",
       "      <td>0</td>\n",
       "      <td>0</td>\n",
       "      <td>0</td>\n",
       "      <td>0</td>\n",
       "      <td>0</td>\n",
       "      <td>...</td>\n",
       "      <td>0</td>\n",
       "      <td>1</td>\n",
       "      <td>0</td>\n",
       "      <td>0</td>\n",
       "      <td>0</td>\n",
       "      <td>1</td>\n",
       "      <td>0</td>\n",
       "      <td>1</td>\n",
       "      <td>0</td>\n",
       "      <td>0</td>\n",
       "    </tr>\n",
       "  </tbody>\n",
       "</table>\n",
       "<p>5 rows × 119 columns</p>\n",
       "</div>"
      ],
      "text/plain": [
       "   Model_Yili   Fiyat  Alfa Romeo  Audi  BMW  Chery  Chevrolet  Chrysler  \\\n",
       "0      2017.0  634500           0     0    0      0          0         0   \n",
       "1      2015.0  151500           0     0    0      0          0         0   \n",
       "2      1994.0   19750           0     0    0      0          0         0   \n",
       "3      2013.0   52000           0     0    0      0          0         0   \n",
       "4      2010.0  148750           0     0    0      0          0         0   \n",
       "\n",
       "   Citroen  Dacia  ...  Roadster  Sedan  Spor / Coupe  Station Wagon  \\\n",
       "0        0      0  ...         0      0             0              0   \n",
       "1        0      0  ...         0      1             0              0   \n",
       "2        0      0  ...         0      1             0              0   \n",
       "3        0      0  ...         0      1             0              0   \n",
       "4        0      0  ...         0      1             0              0   \n",
       "\n",
       "   Üstü Açık / Cabriolet  Sahibinden  Yetkili  2. El  Hasarlı  Klasik  \n",
       "0                      0           0        0      1        0       0  \n",
       "1                      0           1        0      1        0       0  \n",
       "2                      0           1        0      1        0       0  \n",
       "3                      0           1        0      1        0       0  \n",
       "4                      0           1        0      1        0       0  \n",
       "\n",
       "[5 rows x 119 columns]"
      ]
     },
     "execution_count": 26,
     "metadata": {},
     "output_type": "execute_result"
    }
   ],
   "source": [
    "# bu parametreleri kullanarak modelimizi eğitelim\n",
    "xgbyeni = XGBRegressor(colsample_bytree = 0.6, learning_rate = 0.09, max_depth = 6, n_estimators = 300)\n",
    "veri.head()"
   ]
  },
  {
   "cell_type": "code",
   "execution_count": 27,
   "id": "ad69f32c",
   "metadata": {},
   "outputs": [],
   "source": [
    "model_xgb = xgbyeni.fit(X_train, y_train)"
   ]
  },
  {
   "cell_type": "code",
   "execution_count": 28,
   "id": "eb6ddfab",
   "metadata": {},
   "outputs": [
    {
     "name": "stdout",
     "output_type": "stream",
     "text": [
      "Tahminler:  [515607.9    94328.79   65048.652 ...  71522.04   86442.77  137602.94 ]\n",
      "Gerçek değerler:  [567500  92750  85000 ...  76900  82000 144000]\n"
     ]
    }
   ],
   "source": [
    "# test verileri üzerinde bir tahmin işlemi gerçekleştirelim\n",
    "\n",
    "print(\"Tahminler: \",model_xgb.predict(X_test)[:])\n",
    "print(\"Gerçek değerler: \", y_test[:])"
   ]
  },
  {
   "cell_type": "code",
   "execution_count": 29,
   "id": "74d913d3",
   "metadata": {},
   "outputs": [
    {
     "name": "stdout",
     "output_type": "stream",
     "text": [
      "Egitim skoru: 0.9561472931470232\n",
      "Test skoru:  0.9360428268177224\n"
     ]
    }
   ],
   "source": [
    "print(\"Egitim skoru:\",model_xgb.score(X_train,y_train))\n",
    "print(\"Test skoru: \",model_xgb.score(X_test,y_test))"
   ]
  }
 ],
 "metadata": {
  "kernelspec": {
   "display_name": "Python 3",
   "language": "python",
   "name": "python3"
  },
  "language_info": {
   "codemirror_mode": {
    "name": "ipython",
    "version": 3
   },
   "file_extension": ".py",
   "mimetype": "text/x-python",
   "name": "python",
   "nbconvert_exporter": "python",
   "pygments_lexer": "ipython3",
   "version": "3.9.0"
  }
 },
 "nbformat": 4,
 "nbformat_minor": 5
}
